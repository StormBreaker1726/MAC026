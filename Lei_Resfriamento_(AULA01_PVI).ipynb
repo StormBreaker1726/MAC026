{
 "cells": [
  {
   "cell_type": "markdown",
   "source": [
    "<img src=\"../../../../Pictures/Screenshot from 2022-05-02 12-24-35.png\"/>"
   ],
   "metadata": {
    "collapsed": false,
    "pycharm": {
     "name": "#%% md\n"
    }
   }
  },
  {
   "cell_type": "code",
   "execution_count": 1,
   "metadata": {
    "collapsed": true,
    "pycharm": {
     "name": "#%%\n"
    }
   },
   "outputs": [],
   "source": [
    "# Primeiramente, definimos os dados do PVI e alguns outros dados iniciais\n",
    "theta_inicial = 80\n",
    "theta_meio = 36\n",
    "T = 50\n",
    "M = 2*10**15\n",
    "\n",
    "h = T/M"
   ]
  },
  {
   "cell_type": "code",
   "execution_count": null,
   "outputs": [],
   "source": [
    "# Aplicando o Método de Euler\n"
   ],
   "metadata": {
    "collapsed": false,
    "pycharm": {
     "name": "#%%\n"
    }
   }
  }
 ],
 "metadata": {
  "kernelspec": {
   "display_name": "Python 3",
   "language": "python",
   "name": "python3"
  },
  "language_info": {
   "codemirror_mode": {
    "name": "ipython",
    "version": 2
   },
   "file_extension": ".py",
   "mimetype": "text/x-python",
   "name": "python",
   "nbconvert_exporter": "python",
   "pygments_lexer": "ipython2",
   "version": "2.7.6"
  }
 },
 "nbformat": 4,
 "nbformat_minor": 0
}