{
 "cells": [
  {
   "cell_type": "markdown",
   "source": [
    "<img src=\"../../../../Pictures/Screenshot from 2022-05-02 12-24-35.png\"/>"
   ],
   "metadata": {
    "collapsed": false,
    "pycharm": {
     "name": "#%% md\n"
    }
   }
  },
  {
   "cell_type": "code",
   "execution_count": 1,
   "outputs": [],
   "source": [
    "# Importando as bibliotecas\n",
    "import numpy as np\n",
    "from matplotlib import pyplot as plt"
   ],
   "metadata": {
    "collapsed": false,
    "pycharm": {
     "name": "#%%\n"
    }
   }
  },
  {
   "cell_type": "code",
   "execution_count": 11,
   "metadata": {
    "collapsed": true,
    "pycharm": {
     "name": "#%%\n"
    }
   },
   "outputs": [],
   "source": [
    "# Primeiramente, definimos os dados do PVI e alguns outros dados iniciais\n",
    "theta_inicial = 80\n",
    "theta_meio = 0\n",
    "k_t = 0.1386\n",
    "T = 20\n",
    "M = 4\n",
    "\n",
    "h = T/M"
   ]
  },
  {
   "cell_type": "code",
   "execution_count": 15,
   "outputs": [
    {
     "name": "stdout",
     "output_type": "stream",
     "text": [
      "[ 0.  5. 10. 15.]\n"
     ]
    }
   ],
   "source": [
    "# Preparando para o Método de Euler\n",
    "t = np.zeros(M)\n",
    "y = np.zeros(len(t))\n",
    "\n",
    "for i in range(M):\n",
    "    t[i] = i*h\n",
    "print(t)"
   ],
   "metadata": {
    "collapsed": false,
    "pycharm": {
     "name": "#%%\n"
    }
   }
  },
  {
   "cell_type": "code",
   "execution_count": 16,
   "outputs": [
    {
     "name": "stdout",
     "output_type": "stream",
     "text": [
      "[80.         24.56        7.53992     2.31475544]\n"
     ]
    }
   ],
   "source": [
    "# Executando o Método de Euler Explícito\n",
    "y[0] = theta_inicial\n",
    "for i in range(0, len(t) - 1):\n",
    "    y[i + 1] = y[i] * (1 - 0.1386*h)\n",
    "\n",
    "print(y)"
   ],
   "metadata": {
    "collapsed": false,
    "pycharm": {
     "name": "#%%\n"
    }
   }
  }
 ],
 "metadata": {
  "kernelspec": {
   "display_name": "Python 3",
   "language": "python",
   "name": "python3"
  },
  "language_info": {
   "codemirror_mode": {
    "name": "ipython",
    "version": 2
   },
   "file_extension": ".py",
   "mimetype": "text/x-python",
   "name": "python",
   "nbconvert_exporter": "python",
   "pygments_lexer": "ipython2",
   "version": "2.7.6"
  }
 },
 "nbformat": 4,
 "nbformat_minor": 0
}