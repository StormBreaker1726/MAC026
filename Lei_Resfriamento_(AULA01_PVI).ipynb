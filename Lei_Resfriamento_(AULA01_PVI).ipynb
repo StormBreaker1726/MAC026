{
 "cells": [
  {
   "cell_type": "markdown",
   "source": [
    "# Lei do Resfriamento de Newton (Exemplo para aula 02/05/22)"
   ],
   "metadata": {
    "collapsed": false,
    "pycharm": {
     "name": "#%% md\n"
    }
   }
  },
  {
   "cell_type": "markdown",
   "source": [
    "Usando como base a **Lei do Resfriamento de Newton**, teremos\n",
    "\n",
    "\\begin{equation}\n",
    "    \\dfrac{d\\theta}{dt} = -k_t \\dot (\\theta - \\theta_m)\n",
    "\\end{equation}\n",
    "\n",
    "Podemos discretizar a equação diferencial em (1) seguindo um conjunto lógico de passos:\n",
    "\n",
    "\n",
    "   1) Sabemos, pela formulação do **Polinômio de Taylor** que podemos escrever a derivada presente em (1) como\n",
    "        \\begin{equation}\n",
    "            \\theta'(t_j) = \\dfrac{\\theta_{j} - \\theta_{0}}{h}\\cdot \\tau_j\n",
    "        \\end{equation}\n",
    "\n",
    "   2) Como queremos uma aproximação, podemos desconsiderar o $\\tau_j$ na nossa equação. Assim\n",
    "        \\begin{equation}\n",
    "            \\theta'(t_j) = \\dfrac{\\theta_{j} - \\theta_{0}}{h}\n",
    "        \\end{equation}\n",
    "\n",
    "   3) Substituímos na nossa euqação inicialmente dada\n",
    "        \\begin{equation}\n",
    "            \\dfrac{\\theta_{j} - \\theta_{0}}{h} = -k_t (\\theta - \\theta_m)\n",
    "        \\end{equation}\n",
    "   4) Agora teremos que isolar o termo que queremos descobrir ($\\theta_j$) na equação\n",
    "        \\begin{equation}\n",
    "            \\theta_j - \\theta_0 = h\\cdot[-k_t(\\theta - \\theta_m)]\n",
    "        \\end{equation}\n",
    "        \\begin{equation}\n",
    "            \\theta_j = \\theta_0 + h\\cdot[-k_t(\\theta - \\theta_m)]\n",
    "        \\end{equation}\n",
    "\n",
    "\n",
    "Temos agora a **formulação de diferenças finitas** para nossa equação. Podemos aplicar o **Método de Euler Explícito** para resolver essa equação numericamente."
   ],
   "metadata": {
    "collapsed": false,
    "pycharm": {
     "name": "#%% md\n"
    }
   }
  },
  {
   "cell_type": "code",
   "execution_count": 3,
   "outputs": [],
   "source": [
    "# Importando as bibliotecas\n",
    "import numpy as np\n",
    "from matplotlib import pyplot as plt\n",
    "from matplotlib import style"
   ],
   "metadata": {
    "collapsed": false,
    "pycharm": {
     "name": "#%%\n"
    }
   }
  },
  {
   "cell_type": "code",
   "execution_count": 50,
   "metadata": {
    "collapsed": true,
    "pycharm": {
     "name": "#%%\n"
    }
   },
   "outputs": [],
   "source": [
    "# Primeiramente, definimos os dados do PVI e alguns outros dados iniciais\n",
    "theta_inicial = 80 # temperatura inicial do corpo\n",
    "theta_meio = 0 # temperatura inicial do meio\n",
    "k_t = 0.1386 # constante\n",
    "T = 20 # minuto final (onde parar a discretização)\n",
    "M = 4 # número de pontos na discretização\n",
    "\n",
    "h = T/M # calculando o espaço entre os pontos da discretização"
   ]
  },
  {
   "cell_type": "code",
   "execution_count": 60,
   "outputs": [],
   "source": [
    "# Preparando para o Método de Euler\n",
    "t = np.zeros(M)\n",
    "y = np.zeros(len(t) + 1)\n",
    "\n",
    "for i in range(M):\n",
    "    t[i] = i"
   ],
   "metadata": {
    "collapsed": false,
    "pycharm": {
     "name": "#%%\n"
    }
   }
  },
  {
   "cell_type": "code",
   "execution_count": 61,
   "outputs": [],
   "source": [
    "# Executando o Método de Euler Explícito\n",
    "y[0] = theta_inicial\n",
    "for i in range(0, len(t)):\n",
    "    y[i + 1] = y[i] * (1 - 0.1386*h)\n"
   ],
   "metadata": {
    "collapsed": false,
    "pycharm": {
     "name": "#%%\n"
    }
   }
  },
  {
   "cell_type": "code",
   "execution_count": 91,
   "outputs": [
    {
     "name": "stdout",
     "output_type": "stream",
     "text": [
      " Tempo(min) \t\t\t\t\t\t   Temperatura(°C)\n",
      "-------------------------------------------------------\n",
      " 0.000000 \t\t\t\t|\t\t\t\t 80.000000\n",
      " 5.000000 \t\t\t\t|\t\t\t\t 24.560000\n",
      " 10.000000 \t\t\t\t|\t\t\t\t 7.539920\n",
      " 15.000000 \t\t\t\t|\t\t\t\t 2.314755\n",
      " 20.000000 \t\t\t\t|\t\t\t\t 0.710630\n"
     ]
    }
   ],
   "source": [
    "# Exibindo os resultados em uma tabela\n",
    "\n",
    "print(\" Tempo(min) \\t\\t\\t\\t\\t\\t   Temperatura(°C)\")\n",
    "print(\"-------------------------------------------------------\")\n",
    "for i in range(len(y)):\n",
    "    print(\" %f \\t\\t\\t\\t|\\t\\t\\t\\t %f\" % (i*h, y[i]))"
   ],
   "metadata": {
    "collapsed": false,
    "pycharm": {
     "name": "#%%\n"
    }
   }
  },
  {
   "cell_type": "code",
   "execution_count": 115,
   "outputs": [],
   "source": [
    "# Preparando dados para plotagem\n",
    "\n",
    "t = np.zeros(len(y))\n",
    "\n",
    "for i in range(len(y)):\n",
    "    t[i] = i*h"
   ],
   "metadata": {
    "collapsed": false,
    "pycharm": {
     "name": "#%%\n"
    }
   }
  },
  {
   "cell_type": "code",
   "execution_count": 131,
   "outputs": [
    {
     "data": {
      "text/plain": "<Figure size 640x480 with 1 Axes>",
      "image/png": "[encoded data removed]"
     },
     "metadata": {},
     "output_type": "display_data"
    }
   ],
   "source": [
    "# Plotando o gráfico\n",
    "\n",
    "with plt.style.context('classic'):\n",
    "    plt.grid(True)\n",
    "    plt.xlabel(\"Tempo(min)\")\n",
    "    plt.ylabel(\"Temperatura(°C)\")\n",
    "    plt.plot(t,y, 'r--o')\n",
    "plt.show()"
   ],
   "metadata": {
    "collapsed": false,
    "pycharm": {
     "name": "#%%\n"
    }
   }
  }
 ],
 "metadata": {
  "kernelspec": {
   "display_name": "Python 3",
   "language": "python",
   "name": "python3"
  },
  "language_info": {
   "codemirror_mode": {
    "name": "ipython",
    "version": 2
   },
   "file_extension": ".py",
   "mimetype": "text/x-python",
   "name": "python",
   "nbconvert_exporter": "python",
   "pygments_lexer": "ipython2",
   "version": "2.7.6"
  }
 },
 "nbformat": 4,
 "nbformat_minor": 0
}