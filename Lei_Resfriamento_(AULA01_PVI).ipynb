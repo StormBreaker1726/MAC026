{
 "cells": [
  {
   "cell_type": "markdown",
   "source": [
    "# Lei do Resfriamento de Newton (Exemplo para aula 02/05/22)"
   ],
   "metadata": {
    "collapsed": false,
    "pycharm": {
     "name": "#%% md\n"
    }
   }
  },
  {
   "cell_type": "markdown",
   "source": [
    "Usando como base a **Lei do Resfriamento de Newton**, teremos\n",
    "\n",
    "\\begin{equation}\n",
    "    \\dfrac{d\\theta}{dt} = -k_t \\dot (\\theta - \\theta_m)\n",
    "\\end{equation}\n",
    "\n",
    "Podemos discretizar a equação diferencial em (1) seguindo um conjunto lógico de passos:\n",
    "\n",
    "\n",
    "   1) Sabemos, pela formulação do **Polinômio de Taylor** que podemos escrever a derivada presente em (1) como\n",
    "        \\begin{equation}\n",
    "            \\theta'(t_j) = \\dfrac{\\theta_{j} - \\theta_{0}}{h}\\cdot \\tau_j\n",
    "        \\end{equation}\n",
    "\n",
    "   2) Como queremos uma aproximação, podemos desconsiderar o $\\tau_j$ na nossa equação. Assim\n",
    "        \\begin{equation}\n",
    "            \\theta'(t_j) = \\dfrac{\\theta_{j} - \\theta_{0}}{h}\n",
    "        \\end{equation}\n",
    "\n",
    "   3) Substituímos na nossa euqação inicialmente dada\n",
    "        \\begin{equation}\n",
    "            \\dfrac{\\theta_{j} - \\theta_{0}}{h} = -k_t (\\theta_0 - \\theta_m)\n",
    "        \\end{equation}\n",
    "   4) Agora teremos que isolar o termo que queremos descobrir ($\\theta_j$) na equação\n",
    "        \\begin{equation}\n",
    "            \\theta_j - \\theta_0 = h\\cdot[-k_t(\\theta_0 - \\theta_m)]\n",
    "        \\end{equation}\n",
    "        \\begin{equation}\n",
    "            \\theta_j = \\theta_0 + h\\cdot[-k_t(\\theta_0 - \\theta_m)]\n",
    "        \\end{equation}\n",
    "   5) Colocando $\\theta_0$ em evidência\n",
    "        \\begin{equation}\n",
    "            \\theta_j = \\theta_0 + h\\cdot(-k_t\\theta_0 + k_t\\theta_m)\n",
    "        \\end{equation}\n",
    "        \\begin{equation}\n",
    "            \\theta_j = \\theta_0 - h\\cdot k_t\\theta_0 + h\\cdot k_t\\theta_m\n",
    "        \\end{equation}\n",
    "        \\begin{equation}\n",
    "            \\theta_j = \\theta_0 \\cdot (1 - h \\cdot k_t) + h \\cdot k_t \\cdot \\theta_m\n",
    "        \\end{equation}\n",
    "\n",
    "\n",
    "Temos agora a **formulação de diferenças finitas** para nossa equação. Podemos aplicar o **Método de Euler Explícito** para resolver essa equação numericamente."
   ],
   "metadata": {
    "collapsed": false,
    "pycharm": {
     "name": "#%% md\n"
    }
   }
  },
  {
   "cell_type": "code",
   "execution_count": 20,
   "outputs": [],
   "source": [
    "# Importando as bibliotecas\n",
    "import numpy as np\n",
    "import math as mt\n",
    "from matplotlib import pyplot as plt\n",
    "from matplotlib import style"
   ],
   "metadata": {
    "collapsed": false,
    "pycharm": {
     "name": "#%%\n"
    }
   }
  },
  {
   "cell_type": "code",
   "execution_count": 21,
   "metadata": {
    "collapsed": true,
    "pycharm": {
     "name": "#%%\n"
    }
   },
   "outputs": [],
   "source": [
    "# Primeiramente, definimos os dados do PVI e alguns outros dados iniciais\n",
    "theta_inicial = 80 # temperatura inicial do corpo\n",
    "theta_meio = 0 # temperatura inicial do meio\n",
    "k_t = 0.1386 # constante\n",
    "T = 20 # minuto final (onde parar a discretização)\n",
    "\n",
    "# números de pontos nas discretizações\n",
    "M = 4\n",
    "M_1 = 8\n",
    "M_2 = 16\n",
    "M_3 = 32\n",
    "M_4 = 64\n",
    "M_5 = 128\n",
    "\n",
    "# calculando o espaço entre os pontos da discretização\n",
    "h = T/M\n",
    "h1 = T/M_1\n",
    "h2 = T/M_2\n",
    "h3 = T/M_3\n",
    "h4 = T/M_4\n",
    "h5 = T/M_5"
   ]
  },
  {
   "cell_type": "code",
   "execution_count": 22,
   "outputs": [],
   "source": [
    "def theta(t):\n",
    "    return (80*pow(mt.e, -k_t*t))"
   ],
   "metadata": {
    "collapsed": false,
    "pycharm": {
     "name": "#%%\n"
    }
   }
  },
  {
   "cell_type": "code",
   "execution_count": 23,
   "outputs": [],
   "source": [
    "# Preparando para o Método de Euler\n",
    "t = np.zeros(M)\n",
    "y = np.zeros(len(t) + 1)\n",
    "\n",
    "for i in range(M):\n",
    "    t[i] = i\n",
    "\n",
    "t1 = np.zeros(M_1)\n",
    "y1 = np.zeros(len(t1) + 1)\n",
    "\n",
    "for i in range(M_1):\n",
    "    t1[i] = i\n",
    "\n",
    "t2 = np.zeros(M_2)\n",
    "y2 = np.zeros(len(t2) + 1)\n",
    "\n",
    "for i in range(M_2):\n",
    "    t2[i] = i\n",
    "\n",
    "t3 = np.zeros(M_3)\n",
    "y3 = np.zeros(len(t3) + 1)\n",
    "\n",
    "for i in range(M_3):\n",
    "    t3[i] = i\n",
    "\n",
    "t4 = np.zeros(M_4)\n",
    "y4 = np.zeros(len(t4) + 1)\n",
    "\n",
    "for i in range(M_4):\n",
    "    t4[i] = i\n",
    "\n",
    "t5 = np.zeros(M_5)\n",
    "y5 = np.zeros(len(t5) + 1)\n",
    "\n",
    "for i in range(M_5):\n",
    "    t5[i] = i"
   ],
   "metadata": {
    "collapsed": false,
    "pycharm": {
     "name": "#%%\n"
    }
   }
  },
  {
   "cell_type": "code",
   "execution_count": 24,
   "outputs": [],
   "source": [
    "# Executando o Método de Euler Explícito\n",
    "y[0] = theta_inicial\n",
    "for i in range(0, len(t)):\n",
    "    y[i + 1] = y[i] * (1 - k_t*h) + h*k_t*theta_meio\n",
    "\n",
    "y1[0] = theta_inicial\n",
    "for i in range(0, len(t1)):\n",
    "    y1[i + 1] = y1[i] * (1 - k_t*h1) + h1*k_t*theta_meio\n",
    "\n",
    "y2[0] = theta_inicial\n",
    "for i in range(0, len(t2)):\n",
    "    y2[i + 1] = y2[i] * (1 - k_t*h2) + h2*k_t*theta_meio\n",
    "\n",
    "y3[0] = theta_inicial\n",
    "for i in range(0, len(t3)):\n",
    "    y3[i + 1] = y3[i] * (1 - k_t*h3) + h3*k_t*theta_meio\n",
    "\n",
    "y4[0] = theta_inicial\n",
    "for i in range(0, len(t4)):\n",
    "    y4[i + 1] = y4[i] * (1 - k_t*h4) + h4*k_t*theta_meio\n",
    "\n",
    "y5[0] = theta_inicial\n",
    "for i in range(0, len(t5)):\n",
    "    y5[i + 1] = y5[i] * (1 - k_t*h5) + h5*k_t*theta_meio\n"
   ],
   "metadata": {
    "collapsed": false,
    "pycharm": {
     "name": "#%%\n"
    }
   }
  },
  {
   "cell_type": "code",
   "execution_count": 25,
   "outputs": [
    {
     "name": "stdout",
     "output_type": "stream",
     "text": [
      " Tempo(min) \t\t\t\t\t\t   Temperatura(°C)\n",
      "-----------------------------------------------------------------------------------------------------------\n",
      " 0.000000 \t\t\t\t|\t\t\t\t 80.000000\n",
      " 5.000000 \t\t\t\t|\t\t\t\t 24.560000\n",
      " 10.000000 \t\t\t\t|\t\t\t\t 7.539920\n",
      " 15.000000 \t\t\t\t|\t\t\t\t 2.314755\n",
      " 20.000000 \t\t\t\t|\t\t\t\t 0.710630\n"
     ]
    }
   ],
   "source": [
    "# Exibindo os resultados em uma tabela\n",
    "\n",
    "print(\" Tempo(min) \\t\\t\\t\\t\\t\\t   Temperatura(°C)\")\n",
    "print(\"-----------------------------------------------------------------------------------------------------------\")\n",
    "for i in range(len(y)):\n",
    "    print(\" %f \\t\\t\\t\\t|\\t\\t\\t\\t %f\" % (i*h, y[i]))"
   ],
   "metadata": {
    "collapsed": false,
    "pycharm": {
     "name": "#%%\n"
    }
   }
  },
  {
   "cell_type": "code",
   "execution_count": 26,
   "outputs": [],
   "source": [
    "# Preparando dados para plotagem\n",
    "\n",
    "t = np.zeros(len(y))\n",
    "\n",
    "for i in range(len(y)):\n",
    "    t[i] = i*h\n",
    "\n",
    "t1 = np.zeros(len(y1))\n",
    "\n",
    "for i in range(len(y1)):\n",
    "    t1[i] = i*h1\n",
    "\n",
    "t2 = np.zeros(len(y2))\n",
    "\n",
    "for i in range(len(y2)):\n",
    "    t2[i] = i*h2\n",
    "\n",
    "t3 = np.zeros(len(y3))\n",
    "\n",
    "for i in range(len(y3)):\n",
    "    t3[i] = i*h3\n",
    "\n",
    "t4 = np.zeros(len(y4))\n",
    "\n",
    "for i in range(len(y4)):\n",
    "    t4[i] = i*h4\n",
    "\n",
    "t5 = np.zeros(len(y5))\n",
    "\n",
    "for i in range(len(y5)):\n",
    "    t5[i] = i*h5"
   ],
   "metadata": {
    "collapsed": false,
    "pycharm": {
     "name": "#%%\n"
    }
   }
  },
  {
   "cell_type": "code",
   "execution_count": 33,
   "outputs": [
    {
     "data": {
      "text/plain": "<Figure size 640x480 with 1 Axes>",
      "image/png": "[encoded data removed]"
     },
     "metadata": {},
     "output_type": "display_data"
    }
   ],
   "source": [
    "# Plotando o gráfico\n",
    "\n",
    "## Solução Aproximada + Exata\n",
    "with plt.style.context('classic'):\n",
    "    plt.grid(True)\n",
    "    plt.xlabel(\"Tempo(min)\")\n",
    "    plt.ylabel(\"Temperatura(°C)\")\n",
    "\n",
    "    #plt.plot(t,y, 'r--o', label=\"M = 4\")\n",
    "    #plt.plot(t1,y1, 'b--o', label=\"M = 8\")\n",
    "    #plt.plot(t2,y2, 'm--o', label=\"M = 16\")\n",
    "    plt.plot(t3,y3, 'c--o', label=\"M = 32\")\n",
    "    #plt.plot(t5,y5, 'y--o', label=\"M = 128\")\n",
    "\n",
    "    plt.plot(t,theta(t), 'g--o', label=\"Exata\")\n",
    "    plt.legend(loc=\"upper right\")\n",
    "plt.show()\n",
    "\n"
   ],
   "metadata": {
    "collapsed": false,
    "pycharm": {
     "name": "#%%\n"
    }
   }
  }
 ],
 "metadata": {
  "kernelspec": {
   "display_name": "Python 3",
   "language": "python",
   "name": "python3"
  },
  "language_info": {
   "codemirror_mode": {
    "name": "ipython",
    "version": 2
   },
   "file_extension": ".py",
   "mimetype": "text/x-python",
   "name": "python",
   "nbconvert_exporter": "python",
   "pygments_lexer": "ipython2",
   "version": "2.7.6"
  }
 },
 "nbformat": 4,
 "nbformat_minor": 0
}